{
  "nbformat": 4,
  "nbformat_minor": 0,
  "metadata": {
    "colab": {
      "provenance": [],
      "authorship_tag": "ABX9TyPxNgg+H/2C2J/MYZyFmeTP",
      "include_colab_link": true
    },
    "kernelspec": {
      "name": "python3",
      "display_name": "Python 3"
    },
    "language_info": {
      "name": "python"
    }
  },
  "cells": [
    {
      "cell_type": "markdown",
      "metadata": {
        "id": "view-in-github",
        "colab_type": "text"
      },
      "source": [
        "<a href=\"https://colab.research.google.com/github/srikar0999/colabprograms/blob/main/weather_model.ipynb\" target=\"_parent\"><img src=\"https://colab.research.google.com/assets/colab-badge.svg\" alt=\"Open In Colab\"/></a>"
      ]
    },
    {
      "cell_type": "code",
      "execution_count": 1,
      "metadata": {
        "colab": {
          "base_uri": "https://localhost:8080/"
        },
        "id": "yzbH8WzUy6n9",
        "outputId": "93b649c9-33de-412c-b6a3-c0cc4d70bdec"
      },
      "outputs": [
        {
          "output_type": "stream",
          "name": "stdout",
          "text": [
            "Hardcoded variables: (2.0, 1.0)\n"
          ]
        }
      ],
      "source": [
        "import math\n",
        "\n",
        "def solve_quadratic(a, b, c):\n",
        "    discriminant = b**2 - 4*a*c\n",
        "    if discriminant < 0:\n",
        "        return \"No real roots\"\n",
        "    root1 = (-b + math.sqrt(discriminant)) / (2*a)\n",
        "    root2 = (-b - math.sqrt(discriminant)) / (2*a)\n",
        "    return root1, root2\n",
        "\n",
        "# Hardcoded variables\n",
        "a, b, c = 1, -3, 2\n",
        "print(\"Hardcoded variables:\", solve_quadratic(a, b, c))"
      ]
    },
    {
      "cell_type": "code",
      "source": [
        "# Accept variables via keyboard input\n",
        "a = float(input(\"Enter coefficient a: \"))\n",
        "b = float(input(\"Enter coefficient b: \"))\n",
        "c = float(input(\"Enter coefficient c: \"))\n",
        "print(\"Keyboard input:\", solve_quadratic(a, b, c))"
      ],
      "metadata": {
        "colab": {
          "base_uri": "https://localhost:8080/"
        },
        "id": "kgMe-PChzBOp",
        "outputId": "e42c64c3-05e1-4c1c-b4ae-8fce44e2a43a"
      },
      "execution_count": 2,
      "outputs": [
        {
          "output_type": "stream",
          "name": "stdout",
          "text": [
            "Enter coefficient a: 1\n",
            "Enter coefficient b: -5\n",
            "Enter coefficient c: 6\n",
            "Keyboard input: (3.0, 2.0)\n"
          ]
        }
      ]
    },
    {
      "cell_type": "code",
      "source": [
        "# Read variables from a file\n",
        "def read_variables_from_file(filename):\n",
        "    with open(filename, 'r') as file:\n",
        "        lines = file.readlines()\n",
        "    a, b, c = map(float, lines[0].split())\n",
        "    return a, b, c\n",
        "\n",
        "# Upload file\n",
        "filename = input(\"Enter the filename containing quadratic variables: \")\n",
        "a, b, c = read_variables_from_file(filename)\n",
        "print(\"File input:\", solve_quadratic(a, b, c))"
      ],
      "metadata": {
        "colab": {
          "base_uri": "https://localhost:8080/"
        },
        "id": "7zRnR4yOzKPB",
        "outputId": "00422c0f-fa65-4559-ec2c-299891b1f05f"
      },
      "execution_count": 7,
      "outputs": [
        {
          "output_type": "stream",
          "name": "stdout",
          "text": [
            "Enter the filename containing quadratic variables: wethersigle.txt\n",
            "File input: (3.0, 2.0)\n"
          ]
        }
      ]
    },
    {
      "cell_type": "code",
      "source": [
        "# Process multiple sets of inputs from a file\n",
        "def process_multiple_sets(filename):\n",
        "    with open(filename, 'r') as file:\n",
        "        lines = file.readlines()\n",
        "    results = []\n",
        "    for line in lines:\n",
        "        a, b, c = map(float, line.split())\n",
        "        results.append(solve_quadratic(a, b, c))\n",
        "    return results\n",
        "\n",
        "filename = \"multiple_quadratic_inputs.txt\"\n",
        "results = process_multiple_sets(filename)\n",
        "print(\"Results for multiple sets of inputs:\", results)"
      ],
      "metadata": {
        "colab": {
          "base_uri": "https://localhost:8080/"
        },
        "id": "6hs7b9eBzM3p",
        "outputId": "f0a7d18d-8e9a-41c0-d481-f8f317b8e0aa"
      },
      "execution_count": 9,
      "outputs": [
        {
          "output_type": "stream",
          "name": "stdout",
          "text": [
            "Results for multiple sets of inputs: [(3.0, 2.0), (1.0, 1.0), (1.0, -2.5)]\n"
          ]
        }
      ]
    }
  ]
}